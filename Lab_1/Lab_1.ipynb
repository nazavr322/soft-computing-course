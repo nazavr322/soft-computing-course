{
 "cells": [
  {
   "cell_type": "code",
   "execution_count": 1,
   "id": "978e9ff8-5bd5-4670-bde8-ddd4f6e59a58",
   "metadata": {},
   "outputs": [],
   "source": [
    "import numpy as np\n",
    "import pandas as pd\n",
    "import matplotlib.pyplot as plt\n",
    "import seaborn as sns\n",
    "\n",
    "sns.set_style('ticks')\n",
    "\n",
    "%load_ext autoreload\n",
    "%autoreload 2"
   ]
  },
  {
   "cell_type": "markdown",
   "id": "514ad078-3628-4991-b2ec-7ccbb3dd6642",
   "metadata": {},
   "source": [
    "# Завдання:\n",
    "## 1. На основі опитування 5 або більше експертів задати нечітку множину \"чоловік середнього зросту\"\n",
    "Будуємо таблицю опитування"
   ]
  },
  {
   "cell_type": "code",
   "execution_count": 2,
   "id": "e26fa24c-802c-406e-99eb-495372f7cf87",
   "metadata": {},
   "outputs": [
    {
     "data": {
      "text/html": [
       "<div>\n",
       "<style scoped>\n",
       "    .dataframe tbody tr th:only-of-type {\n",
       "        vertical-align: middle;\n",
       "    }\n",
       "\n",
       "    .dataframe tbody tr th {\n",
       "        vertical-align: top;\n",
       "    }\n",
       "\n",
       "    .dataframe thead th {\n",
       "        text-align: right;\n",
       "    }\n",
       "</style>\n",
       "<table border=\"1\" class=\"dataframe\">\n",
       "  <thead>\n",
       "    <tr style=\"text-align: right;\">\n",
       "      <th></th>\n",
       "      <th>$x_{1}\\;(150\\;cm)$</th>\n",
       "      <th>$x_{2}\\;(155\\;cm)$</th>\n",
       "      <th>$x_{3}\\;(160\\;cm)$</th>\n",
       "      <th>$x_{4}\\;(165\\;cm)$</th>\n",
       "      <th>$x_{5}\\;(170\\;cm)$</th>\n",
       "      <th>$x_{6}\\;(175\\;cm)$</th>\n",
       "      <th>$x_{7}\\;(180\\;cm)$</th>\n",
       "      <th>$x_{8}\\;(185\\;cm)$</th>\n",
       "      <th>$x_{9}\\;(190\\;cm)$</th>\n",
       "      <th>$x_{10}\\;(195\\;cm)$</th>\n",
       "      <th>$x_{11}\\;(200\\;cm)$</th>\n",
       "    </tr>\n",
       "  </thead>\n",
       "  <tbody>\n",
       "    <tr>\n",
       "      <th>$b^1$</th>\n",
       "      <td>0</td>\n",
       "      <td>0</td>\n",
       "      <td>1</td>\n",
       "      <td>1</td>\n",
       "      <td>1</td>\n",
       "      <td>1</td>\n",
       "      <td>1</td>\n",
       "      <td>1</td>\n",
       "      <td>0</td>\n",
       "      <td>0</td>\n",
       "      <td>0</td>\n",
       "    </tr>\n",
       "    <tr>\n",
       "      <th>$b^2$</th>\n",
       "      <td>0</td>\n",
       "      <td>0</td>\n",
       "      <td>0</td>\n",
       "      <td>1</td>\n",
       "      <td>1</td>\n",
       "      <td>1</td>\n",
       "      <td>1</td>\n",
       "      <td>1</td>\n",
       "      <td>0</td>\n",
       "      <td>0</td>\n",
       "      <td>0</td>\n",
       "    </tr>\n",
       "    <tr>\n",
       "      <th>$b^3$</th>\n",
       "      <td>0</td>\n",
       "      <td>0</td>\n",
       "      <td>0</td>\n",
       "      <td>0</td>\n",
       "      <td>1</td>\n",
       "      <td>1</td>\n",
       "      <td>1</td>\n",
       "      <td>0</td>\n",
       "      <td>0</td>\n",
       "      <td>0</td>\n",
       "      <td>0</td>\n",
       "    </tr>\n",
       "    <tr>\n",
       "      <th>$b^4$</th>\n",
       "      <td>0</td>\n",
       "      <td>0</td>\n",
       "      <td>0</td>\n",
       "      <td>0</td>\n",
       "      <td>1</td>\n",
       "      <td>1</td>\n",
       "      <td>0</td>\n",
       "      <td>0</td>\n",
       "      <td>0</td>\n",
       "      <td>0</td>\n",
       "      <td>0</td>\n",
       "    </tr>\n",
       "    <tr>\n",
       "      <th>$b^5$</th>\n",
       "      <td>0</td>\n",
       "      <td>0</td>\n",
       "      <td>0</td>\n",
       "      <td>0</td>\n",
       "      <td>0</td>\n",
       "      <td>1</td>\n",
       "      <td>0</td>\n",
       "      <td>0</td>\n",
       "      <td>0</td>\n",
       "      <td>0</td>\n",
       "      <td>0</td>\n",
       "    </tr>\n",
       "  </tbody>\n",
       "</table>\n",
       "</div>"
      ],
      "text/plain": [
       "       $x_{1}\\;(150\\;cm)$  $x_{2}\\;(155\\;cm)$  $x_{3}\\;(160\\;cm)$  \\\n",
       "$b^1$                   0                   0                   1   \n",
       "$b^2$                   0                   0                   0   \n",
       "$b^3$                   0                   0                   0   \n",
       "$b^4$                   0                   0                   0   \n",
       "$b^5$                   0                   0                   0   \n",
       "\n",
       "       $x_{4}\\;(165\\;cm)$  $x_{5}\\;(170\\;cm)$  $x_{6}\\;(175\\;cm)$  \\\n",
       "$b^1$                   1                   1                   1   \n",
       "$b^2$                   1                   1                   1   \n",
       "$b^3$                   0                   1                   1   \n",
       "$b^4$                   0                   1                   1   \n",
       "$b^5$                   0                   0                   1   \n",
       "\n",
       "       $x_{7}\\;(180\\;cm)$  $x_{8}\\;(185\\;cm)$  $x_{9}\\;(190\\;cm)$  \\\n",
       "$b^1$                   1                   1                   0   \n",
       "$b^2$                   1                   1                   0   \n",
       "$b^3$                   1                   0                   0   \n",
       "$b^4$                   0                   0                   0   \n",
       "$b^5$                   0                   0                   0   \n",
       "\n",
       "       $x_{10}\\;(195\\;cm)$  $x_{11}\\;(200\\;cm)$  \n",
       "$b^1$                    0                    0  \n",
       "$b^2$                    0                    0  \n",
       "$b^3$                    0                    0  \n",
       "$b^4$                    0                    0  \n",
       "$b^5$                    0                    0  "
      ]
     },
     "execution_count": 2,
     "metadata": {},
     "output_type": "execute_result"
    }
   ],
   "source": [
    "scores = np.array(\n",
    "    [\n",
    "        [0, 0, 1, 1, 1, 1, 1, 1, 0, 0, 0],\n",
    "        [0, 0, 0, 1, 1, 1, 1, 1, 0, 0, 0],\n",
    "        [0, 0, 0, 0, 1, 1, 1, 0, 0, 0, 0],\n",
    "        [0, 0, 0, 0, 1, 1, 0, 0, 0, 0, 0],\n",
    "        [0, 0, 0, 0, 0, 1, 0, 0, 0, 0, 0],\n",
    "    ]\n",
    ")\n",
    "\n",
    "idx_names = [f'$b^{i + 1}$' for i in range(scores.shape[0])]\n",
    "col_names = [f'$x_{{{i}}}\\;({h}\\;cm)$' for i, h in enumerate(range(150, 201, 5), 1)]\n",
    "df = pd.DataFrame(scores, idx_names, col_names)\n",
    "df"
   ]
  },
  {
   "cell_type": "markdown",
   "id": "5e37044b-d3cf-4eb4-bc62-db3e6cedfb8b",
   "metadata": {},
   "source": [
    "Розраховуємо функцію приналежності"
   ]
  },
  {
   "cell_type": "code",
   "execution_count": 3,
   "id": "d025f916-0b09-43d4-80f0-8c35bb51394a",
   "metadata": {},
   "outputs": [
    {
     "data": {
      "text/html": [
       "<div>\n",
       "<style scoped>\n",
       "    .dataframe tbody tr th:only-of-type {\n",
       "        vertical-align: middle;\n",
       "    }\n",
       "\n",
       "    .dataframe tbody tr th {\n",
       "        vertical-align: top;\n",
       "    }\n",
       "\n",
       "    .dataframe thead th {\n",
       "        text-align: right;\n",
       "    }\n",
       "</style>\n",
       "<table border=\"1\" class=\"dataframe\">\n",
       "  <thead>\n",
       "    <tr style=\"text-align: right;\">\n",
       "      <th></th>\n",
       "      <th>$x_{1}\\;(150\\;cm)$</th>\n",
       "      <th>$x_{2}\\;(155\\;cm)$</th>\n",
       "      <th>$x_{3}\\;(160\\;cm)$</th>\n",
       "      <th>$x_{4}\\;(165\\;cm)$</th>\n",
       "      <th>$x_{5}\\;(170\\;cm)$</th>\n",
       "      <th>$x_{6}\\;(175\\;cm)$</th>\n",
       "      <th>$x_{7}\\;(180\\;cm)$</th>\n",
       "      <th>$x_{8}\\;(185\\;cm)$</th>\n",
       "      <th>$x_{9}\\;(190\\;cm)$</th>\n",
       "      <th>$x_{10}\\;(195\\;cm)$</th>\n",
       "      <th>$x_{11}\\;(200\\;cm)$</th>\n",
       "    </tr>\n",
       "  </thead>\n",
       "  <tbody>\n",
       "    <tr>\n",
       "      <th>$\\mu'_{Aj}(x)$</th>\n",
       "      <td>0.0</td>\n",
       "      <td>0.0</td>\n",
       "      <td>0.2</td>\n",
       "      <td>0.4</td>\n",
       "      <td>0.8</td>\n",
       "      <td>1.0</td>\n",
       "      <td>0.6</td>\n",
       "      <td>0.4</td>\n",
       "      <td>0.0</td>\n",
       "      <td>0.0</td>\n",
       "      <td>0.0</td>\n",
       "    </tr>\n",
       "  </tbody>\n",
       "</table>\n",
       "</div>"
      ],
      "text/plain": [
       "                $x_{1}\\;(150\\;cm)$  $x_{2}\\;(155\\;cm)$  $x_{3}\\;(160\\;cm)$  \\\n",
       "$\\mu'_{Aj}(x)$                 0.0                 0.0                 0.2   \n",
       "\n",
       "                $x_{4}\\;(165\\;cm)$  $x_{5}\\;(170\\;cm)$  $x_{6}\\;(175\\;cm)$  \\\n",
       "$\\mu'_{Aj}(x)$                 0.4                 0.8                 1.0   \n",
       "\n",
       "                $x_{7}\\;(180\\;cm)$  $x_{8}\\;(185\\;cm)$  $x_{9}\\;(190\\;cm)$  \\\n",
       "$\\mu'_{Aj}(x)$                 0.6                 0.4                 0.0   \n",
       "\n",
       "                $x_{10}\\;(195\\;cm)$  $x_{11}\\;(200\\;cm)$  \n",
       "$\\mu'_{Aj}(x)$                  0.0                  0.0  "
      ]
     },
     "execution_count": 3,
     "metadata": {},
     "output_type": "execute_result"
    }
   ],
   "source": [
    "mem_func = df.mean()\n",
    "mem_func = pd.DataFrame([mem_func / mem_func.max()], [\"$\\mu'_{Aj}(x)$\"])\n",
    "mem_func"
   ]
  },
  {
   "cell_type": "markdown",
   "id": "a6b7dc7a-3bae-4c8c-8a99-0265d51bba50",
   "metadata": {},
   "source": [
    "## 2. Апроксимувати функцію приналежності за допомогою трапецевидної кусково-лінійної функції "
   ]
  },
  {
   "cell_type": "code",
   "execution_count": 4,
   "id": "f09eb3d0-d9d2-413c-834c-449419dfe319",
   "metadata": {},
   "outputs": [],
   "source": [
    "a, b, c, d = 150, 170, 180, 190\n",
    "x = np.linspace(140, 200, 100)\n",
    "approx_mem_func = np.piecewise(\n",
    "    x,\n",
    "    [(x <= a) | (x > d), (a < x) & (x <= b), (b < x) & (x <= c), (c < x) & (x <= d)],\n",
    "    [0, lambda x: (x - a) / (b - a), 1, lambda x: (d - x) / (d - c)]\n",
    ")"
   ]
  },
  {
   "cell_type": "markdown",
   "id": "a8960bd7-4211-48b4-b806-c45b79276c4b",
   "metadata": {},
   "source": [
    "## 3. Побудувати графіки двох функій"
   ]
  },
  {
   "cell_type": "code",
   "execution_count": 5,
   "id": "bc812aa0-5402-4824-9597-deac2c373e4e",
   "metadata": {},
   "outputs": [
    {
     "data": {
      "image/png": "[encoded data removed]",
      "text/plain": [
       "<Figure size 1000x600 with 1 Axes>"
      ]
     },
     "metadata": {},
     "output_type": "display_data"
    }
   ],
   "source": [
    "plt.figure(figsize=(10, 6))\n",
    "plt.suptitle('Mempership Functions')\n",
    "plt.bar(range(150, 201, 5), mem_func.iloc[0], label='Membership Function')\n",
    "plt.plot(x, approx_mem_func, label='Approximated Membership Funcion')\n",
    "plt.xlabel('Height')\n",
    "plt.ylabel(\"$\\mu'_{Aj}(x)$\")\n",
    "plt.legend()\n",
    "sns.despine()"
   ]
  },
  {
   "cell_type": "markdown",
   "id": "8c889a58-5a30-48dc-813d-46be82af1fdf",
   "metadata": {},
   "source": [
    "## 4. Визначити носій нечіткої множини, її ядро та межі"
   ]
  },
  {
   "cell_type": "code",
   "execution_count": 6,
   "id": "0357b59a-bf97-4704-884f-1dcc0054ba4b",
   "metadata": {},
   "outputs": [
    {
     "name": "stdout",
     "output_type": "stream",
     "text": [
      "Support of A: [150.3030303  150.90909091 151.51515152 152.12121212 152.72727273\n",
      " 153.33333333 153.93939394 154.54545455 155.15151515 155.75757576\n",
      " 156.36363636 156.96969697 157.57575758 158.18181818 158.78787879\n",
      " 159.39393939 160.         160.60606061 161.21212121 161.81818182\n",
      " 162.42424242 163.03030303 163.63636364 164.24242424 164.84848485\n",
      " 165.45454545 166.06060606 166.66666667 167.27272727 167.87878788\n",
      " 168.48484848 169.09090909 169.6969697  170.3030303  170.90909091\n",
      " 171.51515152 172.12121212 172.72727273 173.33333333 173.93939394\n",
      " 174.54545455 175.15151515 175.75757576 176.36363636 176.96969697\n",
      " 177.57575758 178.18181818 178.78787879 179.39393939 180.\n",
      " 180.60606061 181.21212121 181.81818182 182.42424242 183.03030303\n",
      " 183.63636364 184.24242424 184.84848485 185.45454545 186.06060606\n",
      " 186.66666667 187.27272727 187.87878788 188.48484848 189.09090909\n",
      " 189.6969697 ]\n",
      "Core of A: [170.3030303  170.90909091 171.51515152 172.12121212 172.72727273\n",
      " 173.33333333 173.93939394 174.54545455 175.15151515 175.75757576\n",
      " 176.36363636 176.96969697 177.57575758 178.18181818 178.78787879\n",
      " 179.39393939 180.        ]\n",
      "Bounds of A: [150.3030303  150.90909091 151.51515152 152.12121212 152.72727273\n",
      " 153.33333333 153.93939394 154.54545455 155.15151515 155.75757576\n",
      " 156.36363636 156.96969697 157.57575758 158.18181818 158.78787879\n",
      " 159.39393939 160.         160.60606061 161.21212121 161.81818182\n",
      " 162.42424242 163.03030303 163.63636364 164.24242424 164.84848485\n",
      " 165.45454545 166.06060606 166.66666667 167.27272727 167.87878788\n",
      " 168.48484848 169.09090909 169.6969697  180.60606061 181.21212121\n",
      " 181.81818182 182.42424242 183.03030303 183.63636364 184.24242424\n",
      " 184.84848485 185.45454545 186.06060606 186.66666667 187.27272727\n",
      " 187.87878788 188.48484848 189.09090909 189.6969697 ]\n"
     ]
    }
   ],
   "source": [
    "print('Support of A:', x[approx_mem_func > 0])\n",
    "print('Core of A:', x[approx_mem_func == 1])\n",
    "print('Bounds of A:', x[(approx_mem_func > 0) & (approx_mem_func < 1)])"
   ]
  }
 ],
 "metadata": {
  "kernelspec": {
   "display_name": "Python 3 (ipykernel)",
   "language": "python",
   "name": "python3"
  },
  "language_info": {
   "codemirror_mode": {
    "name": "ipython",
    "version": 3
   },
   "file_extension": ".py",
   "mimetype": "text/x-python",
   "name": "python",
   "nbconvert_exporter": "python",
   "pygments_lexer": "ipython3",
   "version": "3.11.6"
  }
 },
 "nbformat": 4,
 "nbformat_minor": 5
}
